{
 "metadata": {
  "language_info": {
   "codemirror_mode": {
    "name": "ipython",
    "version": 3
   },
   "file_extension": ".py",
   "mimetype": "text/x-python",
   "name": "python",
   "nbconvert_exporter": "python",
   "pygments_lexer": "ipython3",
   "version": "3.7.9-final"
  },
  "orig_nbformat": 2,
  "kernelspec": {
   "name": "python3",
   "display_name": "Python 3",
   "language": "python"
  }
 },
 "nbformat": 4,
 "nbformat_minor": 2,
 "cells": [
  {
   "cell_type": "code",
   "execution_count": 2,
   "metadata": {},
   "outputs": [],
   "source": [
    "import numpy as np\n",
    "import pandas as pd\n",
    "import matplotlib.pyplot as plt\n",
    "import seaborn as sns\n",
    "from tools import plot_perf,store_hist,add_noise,scale,plot_results\n",
    "from ModelGen import autoencoder\n",
    "from MakeData import MakeData\n",
    "from tensorflow.keras.callbacks import EarlyStopping\n",
    "from tensorflow.keras.models import load_model"
   ]
  },
  {
   "cell_type": "code",
   "execution_count": 3,
   "metadata": {},
   "outputs": [],
   "source": [
    "# Importing data\n",
    "df_test = pd.read_csv('data/test.csv')\n",
    "df_train = pd.read_csv('data/train.csv')\n",
    "\n",
    "y = df_train['label']     \n",
    "X = df_train.drop('label',axis=1)"
   ]
  },
  {
   "cell_type": "code",
   "execution_count": 4,
   "metadata": {},
   "outputs": [],
   "source": [
    "# Scaling data\n",
    "X = scale(X)\n",
    "# Reshaping data\n",
    "X = X.values.reshape(-1,28,28,1)"
   ]
  },
  {
   "cell_type": "code",
   "execution_count": 5,
   "metadata": {},
   "outputs": [
    {
     "output_type": "execute_result",
     "data": {
      "text/plain": [
       "(42000, 784)"
      ]
     },
     "metadata": {},
     "execution_count": 5
    }
   ],
   "source": [
    "X2 = df_train.drop('label',axis=1).values\n",
    "X2.shape"
   ]
  },
  {
   "cell_type": "code",
   "execution_count": 6,
   "metadata": {},
   "outputs": [],
   "source": [
    "model = autoencoder('Unet')"
   ]
  },
  {
   "cell_type": "code",
   "execution_count": 7,
   "metadata": {},
   "outputs": [],
   "source": [
    "X_train_noisy, X_test_noisy, X_train, X_test, noise02 = MakeData(X,noise_lvl=0.2)\n",
    "X_train_noisy05, X_test_noisy05, X_train, X_test, noise05 = MakeData(X,noise_lvl=0.5)\n",
    "\n",
    "from sklearn.model_selection import train_test_split\n",
    "X_noisy,noise02 = add_noise(X[0:10000],noise_level=0.2)\n",
    "X_noisy_train, X_noisy_test, noise_train, noise_test = train_test_split(X_noisy, noise02, test_size=0.2, random_state=101)\n"
   ]
  },
  {
   "cell_type": "code",
   "execution_count": 8,
   "metadata": {},
   "outputs": [
    {
     "output_type": "execute_result",
     "data": {
      "text/plain": [
       "(784,)"
      ]
     },
     "metadata": {},
     "execution_count": 8
    }
   ],
   "source": [
    "X2[0].shape"
   ]
  },
  {
   "cell_type": "code",
   "execution_count": 9,
   "metadata": {},
   "outputs": [],
   "source": [
    "from tensorflow import reduce_mean\n",
    "from tensorflow.image import ssim\n",
    "# Custom loss functions\n",
    "\n",
    "# y_true = target = clean image = X_train\n",
    "# y_pred = clean output\n",
    "\n",
    "# max structural similarity index between original image and denoised imaged \n",
    "def ssim_loss(y_true, y_pred):\n",
    "  return 1-reduce_mean(ssim(y_true, y_pred, 1.0, filter_size=5))\n",
    "\n",
    "\n",
    "# y_true = target = noise \n",
    "# y_pred = noisy output\n",
    "# therefore to get my clean image I need to do y_pred-input \n",
    "# need to minimise SSIM between \n",
    "\n",
    "# minimise SSIM between removed noise and denoise\n",
    "def ssim_diff_loss(y_true, y_pred):\n",
    "\n",
    "  return reduce_mean(ssim(y_true, y_pred, 1.0, filter_size=5))"
   ]
  },
  {
   "cell_type": "code",
   "execution_count": 10,
   "metadata": {},
   "outputs": [],
   "source": [
    "# AEUnet = autoencoder('Unet')\n",
    "# AEUnet.compile(loss='binary_crossentropy',optimizer='adam')\n",
    "\n",
    "# AEUnet_SSIM = autoencoder('Unet')\n",
    "# AEUnet_SSIM.compile(loss=ssim_loss,optimizer='adam')\n",
    "\n",
    "# AEUnet05 = autoencoder('Unet')\n",
    "# AEUnet05.compile(loss='binary_crossentropy',optimizer='adam')\n",
    "\n",
    "# AEUnet_SSIM05 = autoencoder('Unet')\n",
    "# AEUnet_SSIM05.compile(loss=ssim_loss,optimizer='adam')\n",
    "\n",
    "# AEUnet_SSIMv2 = autoencoder('Unet')\n",
    "# AEUnet_SSIMv2.compile(loss=ssim_loss,optimizer='adam')\n",
    "\n",
    "# AEUnet_SSIMv2diff = autoencoder('Unet')\n",
    "# AEUnet_SSIMv2diff.compile(loss='mse',optimizer='adam')\n",
    "\n",
    "AEANN = autoencoder('ANN')\n",
    "AEANN.compile(loss='binary_crossentropy',optimizer='adam')"
   ]
  },
  {
   "cell_type": "code",
   "execution_count": 11,
   "metadata": {},
   "outputs": [
    {
     "output_type": "stream",
     "name": "stdout",
     "text": [
      "Model: \"sequential\"\n_________________________________________________________________\nLayer (type)                 Output Shape              Param #   \n=================================================================\ndense (Dense)                (None, 784)               615440    \n_________________________________________________________________\ndense_1 (Dense)              (None, 256)               200960    \n_________________________________________________________________\ndense_2 (Dense)              (None, 128)               32896     \n_________________________________________________________________\ndense_3 (Dense)              (None, 64)                8256      \n_________________________________________________________________\ndense_4 (Dense)              (None, 64)                4160      \n_________________________________________________________________\ndense_5 (Dense)              (None, 128)               8320      \n_________________________________________________________________\ndense_6 (Dense)              (None, 256)               33024     \n_________________________________________________________________\ndense_7 (Dense)              (None, 784)               201488    \n=================================================================\nTotal params: 1,104,544\nTrainable params: 1,104,544\nNon-trainable params: 0\n_________________________________________________________________\n"
     ]
    }
   ],
   "source": [
    "AEANN.summary()"
   ]
  },
  {
   "cell_type": "code",
   "execution_count": 12,
   "metadata": {},
   "outputs": [],
   "source": [
    "callback = EarlyStopping(\n",
    "    monitor=\"val_loss\",\n",
    "    min_delta=0.05,\n",
    "    patience=10,\n",
    "    verbose=0,\n",
    "    mode=\"auto\",\n",
    "    baseline=None,\n",
    "    restore_best_weights=True,\n",
    ")"
   ]
  },
  {
   "cell_type": "code",
   "execution_count": 29,
   "metadata": {},
   "outputs": [],
   "source": []
  },
  {
   "cell_type": "code",
   "execution_count": 13,
   "metadata": {},
   "outputs": [],
   "source": [
    "epochs = 10\n",
    "batch_size = 128"
   ]
  },
  {
   "cell_type": "code",
   "execution_count": 14,
   "metadata": {},
   "outputs": [
    {
     "output_type": "stream",
     "name": "stdout",
     "text": [
      "Epoch 1/100\n",
      "63/63 [==============================] - 2s 27ms/step - loss: 0.3237 - val_loss: 0.2564\n",
      "Epoch 2/100\n",
      "63/63 [==============================] - 2s 25ms/step - loss: 0.2390 - val_loss: 0.2164\n",
      "Epoch 3/100\n",
      "63/63 [==============================] - 1s 21ms/step - loss: 0.1956 - val_loss: 0.1801\n",
      "Epoch 4/100\n",
      "63/63 [==============================] - 1s 21ms/step - loss: 0.1683 - val_loss: 0.1619\n",
      "Epoch 5/100\n",
      "63/63 [==============================] - 1s 23ms/step - loss: 0.1549 - val_loss: 0.1524\n",
      "Epoch 6/100\n",
      "63/63 [==============================] - 1s 22ms/step - loss: 0.1472 - val_loss: 0.1470\n",
      "Epoch 7/100\n",
      "63/63 [==============================] - 1s 23ms/step - loss: 0.1410 - val_loss: 0.1416\n",
      "Epoch 8/100\n",
      "63/63 [==============================] - 1s 22ms/step - loss: 0.1364 - val_loss: 0.1376\n",
      "Epoch 9/100\n",
      "63/63 [==============================] - 1s 21ms/step - loss: 0.1326 - val_loss: 0.1367\n",
      "Epoch 10/100\n",
      "63/63 [==============================] - 1s 21ms/step - loss: 0.1288 - val_loss: 0.1316\n",
      "Epoch 11/100\n",
      "63/63 [==============================] - 1s 24ms/step - loss: 0.1253 - val_loss: 0.1323\n",
      "Epoch 12/100\n",
      "63/63 [==============================] - 1s 17ms/step - loss: 0.1229 - val_loss: 0.1290\n",
      "Epoch 13/100\n",
      "63/63 [==============================] - 1s 17ms/step - loss: 0.1201 - val_loss: 0.1254\n",
      "Epoch 14/100\n",
      "63/63 [==============================] - 1s 18ms/step - loss: 0.1176 - val_loss: 0.1235\n",
      "Epoch 15/100\n",
      "63/63 [==============================] - 1s 18ms/step - loss: 0.1157 - val_loss: 0.1225\n",
      "Epoch 16/100\n",
      "63/63 [==============================] - 1s 17ms/step - loss: 0.1138 - val_loss: 0.1207\n",
      "Epoch 17/100\n",
      "63/63 [==============================] - 1s 17ms/step - loss: 0.1120 - val_loss: 0.1195\n",
      "Epoch 18/100\n",
      "63/63 [==============================] - 1s 17ms/step - loss: 0.1104 - val_loss: 0.1185\n",
      "Epoch 19/100\n",
      "63/63 [==============================] - 1s 17ms/step - loss: 0.1091 - val_loss: 0.1172\n",
      "Epoch 20/100\n",
      "63/63 [==============================] - 1s 17ms/step - loss: 0.1077 - val_loss: 0.1167\n",
      "Epoch 21/100\n",
      "63/63 [==============================] - 1s 17ms/step - loss: 0.1066 - val_loss: 0.1150\n",
      "Epoch 22/100\n",
      "63/63 [==============================] - 1s 18ms/step - loss: 0.1051 - val_loss: 0.1148\n",
      "Epoch 23/100\n",
      "63/63 [==============================] - 1s 18ms/step - loss: 0.1041 - val_loss: 0.1137\n",
      "Epoch 24/100\n",
      "63/63 [==============================] - 1s 18ms/step - loss: 0.1026 - val_loss: 0.1136\n",
      "Epoch 25/100\n",
      "63/63 [==============================] - 1s 18ms/step - loss: 0.1019 - val_loss: 0.1125\n",
      "Epoch 26/100\n",
      "63/63 [==============================] - 1s 19ms/step - loss: 0.1012 - val_loss: 0.1125\n",
      "Epoch 27/100\n",
      "63/63 [==============================] - 1s 21ms/step - loss: 0.1001 - val_loss: 0.1120\n",
      "Epoch 28/100\n",
      "63/63 [==============================] - 1s 19ms/step - loss: 0.0995 - val_loss: 0.1122\n",
      "Epoch 29/100\n",
      "63/63 [==============================] - 1s 19ms/step - loss: 0.0986 - val_loss: 0.1115\n",
      "Epoch 30/100\n",
      "63/63 [==============================] - 1s 19ms/step - loss: 0.0980 - val_loss: 0.1108\n",
      "Epoch 31/100\n",
      "63/63 [==============================] - 1s 18ms/step - loss: 0.0973 - val_loss: 0.1105\n",
      "Epoch 32/100\n",
      "63/63 [==============================] - 1s 18ms/step - loss: 0.0966 - val_loss: 0.1105\n",
      "Epoch 33/100\n",
      "63/63 [==============================] - 1s 18ms/step - loss: 0.0962 - val_loss: 0.1101\n",
      "Epoch 34/100\n",
      "63/63 [==============================] - 1s 18ms/step - loss: 0.0955 - val_loss: 0.1099\n",
      "Epoch 35/100\n",
      "63/63 [==============================] - 1s 20ms/step - loss: 0.0951 - val_loss: 0.1094\n",
      "Epoch 36/100\n",
      "63/63 [==============================] - 1s 18ms/step - loss: 0.0943 - val_loss: 0.1100\n",
      "Epoch 37/100\n",
      "63/63 [==============================] - 1s 20ms/step - loss: 0.0938 - val_loss: 0.1089\n",
      "Epoch 38/100\n",
      "63/63 [==============================] - 1s 18ms/step - loss: 0.0934 - val_loss: 0.1089\n",
      "Epoch 39/100\n",
      "63/63 [==============================] - 1s 19ms/step - loss: 0.0930 - val_loss: 0.1089\n",
      "Epoch 40/100\n",
      "63/63 [==============================] - 1s 23ms/step - loss: 0.0923 - val_loss: 0.1093\n",
      "Epoch 41/100\n",
      "63/63 [==============================] - 1s 21ms/step - loss: 0.0921 - val_loss: 0.1084\n",
      "Epoch 42/100\n",
      "63/63 [==============================] - 1s 21ms/step - loss: 0.0916 - val_loss: 0.1083\n",
      "Epoch 43/100\n",
      "63/63 [==============================] - 1s 21ms/step - loss: 0.0912 - val_loss: 0.1083\n",
      "Epoch 44/100\n",
      "63/63 [==============================] - 1s 21ms/step - loss: 0.0908 - val_loss: 0.1083\n",
      "Epoch 45/100\n",
      "63/63 [==============================] - 1s 22ms/step - loss: 0.0903 - val_loss: 0.1079\n",
      "Epoch 46/100\n",
      "63/63 [==============================] - 1s 23ms/step - loss: 0.0899 - val_loss: 0.1088\n",
      "Epoch 47/100\n",
      "63/63 [==============================] - 1s 22ms/step - loss: 0.0897 - val_loss: 0.1081\n",
      "Epoch 48/100\n",
      "63/63 [==============================] - 1s 23ms/step - loss: 0.0895 - val_loss: 0.1082\n",
      "Epoch 49/100\n",
      "63/63 [==============================] - 1s 21ms/step - loss: 0.0890 - val_loss: 0.1089\n",
      "Epoch 50/100\n",
      "63/63 [==============================] - 1s 20ms/step - loss: 0.0888 - val_loss: 0.1084\n",
      "Epoch 51/100\n",
      "63/63 [==============================] - 1s 18ms/step - loss: 0.0886 - val_loss: 0.1082\n",
      "Epoch 52/100\n",
      "63/63 [==============================] - 1s 18ms/step - loss: 0.0879 - val_loss: 0.1086\n",
      "Epoch 53/100\n",
      "63/63 [==============================] - 1s 19ms/step - loss: 0.0877 - val_loss: 0.1080\n",
      "Epoch 54/100\n",
      "63/63 [==============================] - 1s 18ms/step - loss: 0.0874 - val_loss: 0.1078\n",
      "Epoch 55/100\n",
      "63/63 [==============================] - 1s 18ms/step - loss: 0.0870 - val_loss: 0.1084\n",
      "Epoch 56/100\n",
      "63/63 [==============================] - 1s 18ms/step - loss: 0.0870 - val_loss: 0.1079\n",
      "Epoch 57/100\n",
      "63/63 [==============================] - 1s 18ms/step - loss: 0.0866 - val_loss: 0.1083\n",
      "Epoch 58/100\n",
      "63/63 [==============================] - 1s 17ms/step - loss: 0.0862 - val_loss: 0.1085\n",
      "Epoch 59/100\n",
      "63/63 [==============================] - 1s 18ms/step - loss: 0.0862 - val_loss: 0.1084\n",
      "Epoch 60/100\n",
      "63/63 [==============================] - 1s 17ms/step - loss: 0.0858 - val_loss: 0.1078\n",
      "Epoch 61/100\n",
      "63/63 [==============================] - 1s 22ms/step - loss: 0.0855 - val_loss: 0.1080\n",
      "Epoch 62/100\n",
      "63/63 [==============================] - 1s 19ms/step - loss: 0.0855 - val_loss: 0.1083\n",
      "Epoch 63/100\n",
      "63/63 [==============================] - 1s 17ms/step - loss: 0.0855 - val_loss: 0.1093\n",
      "Epoch 64/100\n",
      "63/63 [==============================] - 1s 17ms/step - loss: 0.0850 - val_loss: 0.1082\n",
      "Epoch 65/100\n",
      "63/63 [==============================] - 1s 17ms/step - loss: 0.0848 - val_loss: 0.1083\n",
      "Epoch 66/100\n",
      "63/63 [==============================] - 1s 18ms/step - loss: 0.0845 - val_loss: 0.1081\n",
      "Epoch 67/100\n",
      "63/63 [==============================] - 1s 17ms/step - loss: 0.0842 - val_loss: 0.1087\n",
      "Epoch 68/100\n",
      "63/63 [==============================] - 1s 17ms/step - loss: 0.0843 - val_loss: 0.1085\n",
      "Epoch 69/100\n",
      "63/63 [==============================] - 1s 17ms/step - loss: 0.0841 - val_loss: 0.1085\n",
      "Epoch 70/100\n",
      "63/63 [==============================] - 1s 17ms/step - loss: 0.0839 - val_loss: 0.1083\n",
      "Epoch 71/100\n",
      "63/63 [==============================] - 1s 17ms/step - loss: 0.0837 - val_loss: 0.1085\n",
      "Epoch 72/100\n",
      "63/63 [==============================] - 1s 17ms/step - loss: 0.0835 - val_loss: 0.1087\n",
      "Epoch 73/100\n",
      "63/63 [==============================] - 1s 17ms/step - loss: 0.0835 - val_loss: 0.1085\n",
      "Epoch 74/100\n",
      "63/63 [==============================] - 1s 17ms/step - loss: 0.0837 - val_loss: 0.1087\n",
      "Epoch 75/100\n",
      "63/63 [==============================] - 1s 17ms/step - loss: 0.0830 - val_loss: 0.1088\n",
      "Epoch 76/100\n",
      "63/63 [==============================] - 1s 17ms/step - loss: 0.0828 - val_loss: 0.1087\n",
      "Epoch 77/100\n",
      "63/63 [==============================] - 1s 17ms/step - loss: 0.0827 - val_loss: 0.1087\n",
      "Epoch 78/100\n",
      "63/63 [==============================] - 1s 17ms/step - loss: 0.0822 - val_loss: 0.1088\n",
      "Epoch 79/100\n",
      "63/63 [==============================] - 1s 17ms/step - loss: 0.0820 - val_loss: 0.1087\n",
      "Epoch 80/100\n",
      "63/63 [==============================] - 1s 17ms/step - loss: 0.0819 - val_loss: 0.1090\n",
      "Epoch 81/100\n",
      "63/63 [==============================] - 1s 17ms/step - loss: 0.0818 - val_loss: 0.1091\n",
      "Epoch 82/100\n",
      "63/63 [==============================] - 1s 17ms/step - loss: 0.0818 - val_loss: 0.1095\n",
      "Epoch 83/100\n",
      "63/63 [==============================] - 1s 17ms/step - loss: 0.0818 - val_loss: 0.1096\n",
      "Epoch 84/100\n",
      "63/63 [==============================] - 1s 18ms/step - loss: 0.0819 - val_loss: 0.1096\n",
      "Epoch 85/100\n",
      "63/63 [==============================] - 1s 17ms/step - loss: 0.0817 - val_loss: 0.1093\n",
      "Epoch 86/100\n",
      "63/63 [==============================] - 1s 17ms/step - loss: 0.0815 - val_loss: 0.1094\n",
      "Epoch 87/100\n",
      "63/63 [==============================] - 1s 17ms/step - loss: 0.0812 - val_loss: 0.1097\n",
      "Epoch 88/100\n",
      "63/63 [==============================] - 1s 17ms/step - loss: 0.0810 - val_loss: 0.1098\n",
      "Epoch 89/100\n",
      "63/63 [==============================] - 1s 17ms/step - loss: 0.0809 - val_loss: 0.1100\n",
      "Epoch 90/100\n",
      "63/63 [==============================] - 1s 17ms/step - loss: 0.0809 - val_loss: 0.1101\n",
      "Epoch 91/100\n",
      "63/63 [==============================] - 1s 17ms/step - loss: 0.0807 - val_loss: 0.1099\n",
      "Epoch 92/100\n",
      "63/63 [==============================] - 1s 17ms/step - loss: 0.0805 - val_loss: 0.1103\n",
      "Epoch 93/100\n",
      "63/63 [==============================] - 1s 17ms/step - loss: 0.0803 - val_loss: 0.1102\n",
      "Epoch 94/100\n",
      "63/63 [==============================] - 1s 17ms/step - loss: 0.0804 - val_loss: 0.1101\n",
      "Epoch 95/100\n",
      "63/63 [==============================] - 1s 17ms/step - loss: 0.0805 - val_loss: 0.1102\n",
      "Epoch 96/100\n",
      "63/63 [==============================] - 1s 17ms/step - loss: 0.0804 - val_loss: 0.1101\n",
      "Epoch 97/100\n",
      "63/63 [==============================] - 1s 17ms/step - loss: 0.0801 - val_loss: 0.1102\n",
      "Epoch 98/100\n",
      "63/63 [==============================] - 1s 17ms/step - loss: 0.0800 - val_loss: 0.1105\n",
      "Epoch 99/100\n",
      "63/63 [==============================] - 1s 17ms/step - loss: 0.0800 - val_loss: 0.1103\n",
      "Epoch 100/100\n",
      "63/63 [==============================] - 1s 17ms/step - loss: 0.0798 - val_loss: 0.1105\n"
     ]
    }
   ],
   "source": [
    "epochs = 100\n",
    "batch_size = 128\n",
    "historyAEANN= AEANN.fit(X_train_noisy.reshape(8000,784), X_train.reshape(8000,784), batch_size = batch_size, epochs = epochs,shuffle=True,validation_data =(X_test_noisy.reshape(2000,784),X_test.reshape(2000,784)),use_multiprocessing=True)"
   ]
  },
  {
   "cell_type": "code",
   "execution_count": 15,
   "metadata": {},
   "outputs": [],
   "source": [
    "# historyUnet_SSIMv2diff = AEUnet_SSIMv2diff.fit(X_train_noisy, noise_train, batch_size = batch_size, epochs = epochs,shuffle=True,validation_data =(X_test_noisy,noise_test),callbacks=callback,use_multiprocessing=True)"
   ]
  },
  {
   "cell_type": "code",
   "execution_count": 16,
   "metadata": {},
   "outputs": [],
   "source": [
    "# historyUnet_SSIMv2 = AEUnet_SSIMv2.fit(X_train_noisy, X_train, batch_size = batch_size, epochs = epochs,shuffle=True,validation_data =(X_test_noisy,X_test),callbacks=callback,use_multiprocessing=True)"
   ]
  },
  {
   "cell_type": "code",
   "execution_count": 17,
   "metadata": {},
   "outputs": [],
   "source": [
    "# historyUnet = AEUnet.fit(X_train_noisy, X_train, batch_size = batch_size, epochs = epochs,shuffle=True,\n",
    "#                     validation_data =(X_test_noisy,X_test),callbacks=callback,use_multiprocessing=True)"
   ]
  },
  {
   "cell_type": "code",
   "execution_count": 18,
   "metadata": {},
   "outputs": [],
   "source": [
    "# historyUnet_SSIM = AEUnet_SSIM.fit(X_train_noisy, X_train, batch_size = batch_size, epochs = epochs,shuffle=True,\n",
    "#                     validation_data =(X_test_noisy,X_test),use_multiprocessing=True)"
   ]
  },
  {
   "cell_type": "code",
   "execution_count": 19,
   "metadata": {},
   "outputs": [],
   "source": [
    "# historyUnet05 = AEUnet05.fit(X_train_noisy05, X_train, batch_size = batch_size, epochs = epochs,shuffle=True,\n",
    "#                     validation_data =(X_test_noisy05,X_test),callbacks=callback,use_multiprocessing=True)"
   ]
  },
  {
   "cell_type": "code",
   "execution_count": 20,
   "metadata": {},
   "outputs": [],
   "source": [
    "# historyUnet_SSIM05 = AEUnet_SSIM05.fit(X_train_noisy05, X_train, batch_size = batch_size, epochs = epochs,shuffle=True,\n",
    "#                     validation_data =(X_test_noisy05,X_test),use_multiprocessing=True)"
   ]
  },
  {
   "cell_type": "code",
   "execution_count": 21,
   "metadata": {},
   "outputs": [
    {
     "output_type": "stream",
     "name": "stdout",
     "text": [
      "WARNING:tensorflow:From /Users/Graham/opt/anaconda3/envs/Py3_7TensorFlow/lib/python3.7/site-packages/tensorflow/python/training/tracking/tracking.py:111: Model.state_updates (from tensorflow.python.keras.engine.training) is deprecated and will be removed in a future version.\n",
      "Instructions for updating:\n",
      "This property should not be used in TensorFlow 2.0, as updates are applied automatically.\n",
      "WARNING:tensorflow:From /Users/Graham/opt/anaconda3/envs/Py3_7TensorFlow/lib/python3.7/site-packages/tensorflow/python/training/tracking/tracking.py:111: Layer.updates (from tensorflow.python.keras.engine.base_layer) is deprecated and will be removed in a future version.\n",
      "Instructions for updating:\n",
      "This property should not be used in TensorFlow 2.0, as updates are applied automatically.\n",
      "INFO:tensorflow:Assets written to: ./models/AEANN/assets\n"
     ]
    }
   ],
   "source": [
    "# # Saving models for loading in eval notebook\n",
    "# AEUnet.save('./models/AEUnet')\n",
    "# AEUnet05.save('./models/AEUnet05')\n",
    "# AEUnet_SSIM.save('./models/AEUnet_SSIM')\n",
    "# AEUnet_SSIM05.save('./models/AEUnet_SSIM05')\n",
    "# AEUnet_SSIMv2.save('./models/AEUnet_SSIMv2')\n",
    "AEANN.save('./models/AEANN')"
   ]
  },
  {
   "cell_type": "code",
   "execution_count": 22,
   "metadata": {},
   "outputs": [],
   "source": [
    "# Loading saved models \n",
    "AEUnet = load_model('./models/AEUnet')\n",
    "AEUnet_SSIM = load_model('./models/AEUnet_SSIM',compile=False)\n",
    "AEUnet_SSIMv2 = load_model('./models/AEUnet_SSIMv2',compile=False)\n",
    "AEUnet05 = load_model('./models/AEUnet05')\n",
    "AEUnet_SSIM05 = load_model('./models/AEUnet_SSIM05',compile=False)"
   ]
  },
  {
   "cell_type": "code",
   "execution_count": 23,
   "metadata": {},
   "outputs": [
    {
     "output_type": "error",
     "ename": "NameError",
     "evalue": "name 'historyUnet_SSIMv2' is not defined",
     "traceback": [
      "\u001b[0;31m---------------------------------------------------------------------------\u001b[0m",
      "\u001b[0;31mNameError\u001b[0m                                 Traceback (most recent call last)",
      "\u001b[0;32m<ipython-input-23-f0fbd77d1642>\u001b[0m in \u001b[0;36m<module>\u001b[0;34m\u001b[0m\n\u001b[0;32m----> 1\u001b[0;31m \u001b[0mmodel_hist\u001b[0m \u001b[0;34m=\u001b[0m \u001b[0mpd\u001b[0m\u001b[0;34m.\u001b[0m\u001b[0mDataFrame\u001b[0m\u001b[0;34m(\u001b[0m\u001b[0mhistoryUnet_SSIMv2\u001b[0m\u001b[0;34m.\u001b[0m\u001b[0mhistory\u001b[0m\u001b[0;34m)\u001b[0m\u001b[0;34m\u001b[0m\u001b[0;34m\u001b[0m\u001b[0m\n\u001b[0m\u001b[1;32m      2\u001b[0m \u001b[0mmodel_hist\u001b[0m\u001b[0;34m[\u001b[0m\u001b[0;34m'model'\u001b[0m\u001b[0;34m]\u001b[0m\u001b[0;34m=\u001b[0m\u001b[0;34m'SSIMv2'\u001b[0m\u001b[0;34m\u001b[0m\u001b[0;34m\u001b[0m\u001b[0m\n",
      "\u001b[0;31mNameError\u001b[0m: name 'historyUnet_SSIMv2' is not defined"
     ]
    }
   ],
   "source": [
    "# model_hist = pd.DataFrame(historyUnet_SSIMv2.history)\n",
    "# model_hist['model']='SSIMv2'"
   ]
  },
  {
   "cell_type": "code",
   "execution_count": 24,
   "metadata": {},
   "outputs": [],
   "source": [
    "# Predicting\n",
    "DenoiseAEUnet = AEUnet.predict(X_test_noisy)\n",
    "DenoiseAEUnet05 = AEUnet05.predict(X_test_noisy05)\n",
    "DenoiseAEUnet_SSIM = AEUnet_SSIM.predict(X_test_noisy)\n",
    "DenoiseAEUnet_SSIM05 = AEUnet_SSIM05.predict(X_test_noisy05)\n",
    "DenoiseAEUnet_SSIMv2 = AEUnet_SSIMv2.predict(X_test_noisy)\n",
    "DenoiseAEANN = AEANN.predict(X_test_noisy.reshape(2000,784))"
   ]
  },
  {
   "cell_type": "code",
   "execution_count": 25,
   "metadata": {},
   "outputs": [],
   "source": [
    "DenoiseAEANN = DenoiseAEANN.reshape(-1,28,28,1)"
   ]
  },
  {
   "cell_type": "code",
   "execution_count": 26,
   "metadata": {},
   "outputs": [],
   "source": [
    "# Differences to noisy images \n",
    "DiffAEU = DenoiseAEUnet-X_test_noisy\n",
    "DiffAEU05 = DenoiseAEUnet05-X_test_noisy05\n",
    "DiffAEU_SSIM = DenoiseAEUnet_SSIM-X_test_noisy\n",
    "DiffAEU_SSIM05 = DenoiseAEUnet_SSIM05-X_test_noisy05\n",
    "DiffAEU_SSIMv2 = DenoiseAEUnet_SSIMv2-X_test_noisy\n"
   ]
  },
  {
   "cell_type": "code",
   "execution_count": 27,
   "metadata": {},
   "outputs": [],
   "source": [
    "def plot_results(data,start=0,plot=True,save=False):\n",
    "    \"\"\"Input: a list of variables containing MNIST data to plot\n",
    "              what number in the data you want to start at\"\"\"\n",
    "    \n",
    "    n = 10\n",
    "\n",
    "    plt.figure(figsize=(20,len(data)*2))\n",
    "    # Looping over datasets to compare\n",
    "    for j in range(len(data)):\n",
    "        # Looping over numbers in each dataset\n",
    "        for i in range(start,start+n):\n",
    "             loc = i-start\n",
    "             ax = plt.subplot(len(data),n,loc+1+(j*n))\n",
    "             plt.imshow(data[j][i])\n",
    "             plt.gray()\n",
    "             ax.get_xaxis().set_visible(False)\n",
    "             ax.get_yaxis().set_visible(False)\n",
    "\n",
    "    if save:\n",
    "        file_name = input(\"file name:\")\n",
    "        plt.savefig('./results/images/Unet/%s_start%s.png'%(file_name,start))"
   ]
  },
  {
   "cell_type": "code",
   "execution_count": 29,
   "metadata": {},
   "outputs": [
    {
     "output_type": "display_data",
     "data": {
      "text/plain": "<Figure size 1440x144 with 10 Axes>",
      "image/svg+xml": "<?xml version=\"1.0\" encoding=\"utf-8\" standalone=\"no\"?>\n<!DOCTYPE svg PUBLIC \"-//W3C//DTD SVG 1.1//EN\"\n  \"http://www.w3.org/Graphics/SVG/1.1/DTD/svg11.dtd\">\n<!-- Created with matplotlib (https://matplotlib.org/) -->\n<svg height=\"112.476271pt\" version=\"1.1\" viewBox=\"0 0 1133.9 112.476271\" width=\"1133.9pt\" xmlns=\"http://www.w3.org/2000/svg\" xmlns:xlink=\"http://www.w3.org/1999/xlink\">\n <metadata>\n  <rdf:RDF xmlns:cc=\"http://creativecommons.org/ns#\" xmlns:dc=\"http://purl.org/dc/elements/1.1/\" xmlns:rdf=\"http://www.w3.org/1999/02/22-rdf-syntax-ns#\">\n   <cc:Work>\n    <dc:type rdf:resource=\"http://purl.org/dc/dcmitype/StillImage\"/>\n    <dc:date>2021-02-08T18:00:32.841362</dc:date>\n    <dc:format>image/svg+xml</dc:format>\n    <dc:creator>\n     <cc:Agent>\n      <dc:title>Matplotlib v3.3.3, https://matplotlib.org/</dc:title>\n     </cc:Agent>\n    </dc:creator>\n   </cc:Work>\n  </rdf:RDF>\n </metadata>\n <defs>\n  <style type=\"text/css\">*{stroke-linecap:butt;stroke-linejoin:round;}</style>\n </defs>\n <g id=\"figure_1\">\n  <g id=\"patch_1\">\n   <path d=\"M 0 112.476271 \nL 1133.9 112.476271 \nL 1133.9 0 \nL 0 0 \nz\n\" style=\"fill:none;\"/>\n  </g>\n  <g id=\"axes_1\">\n   <g id=\"patch_2\">\n    <path d=\"M 10.7 101.776271 \nL 105.276271 101.776271 \nL 105.276271 7.2 \nL 10.7 7.2 \nz\n\" style=\"fill:#ffffff;\"/>\n   </g>\n   <g clip-path=\"url(#pfdcf1745a1)\">\n    <image height=\"95\" id=\"imageb5a764e836\" transform=\"scale(1 -1)translate(0 -95)\" width=\"95\" x=\"10.7\" xlink:href=\"data:image/png;base64,\niVBORw0KGgoAAAANSUhEUgAAAF8AAABfCAYAAACOTBv1AAAEwUlEQVR4nO2cSyh1URTH9/UmEqUMxMDAQMnISBQjYiB5jEkMjA2UiUcZMKIUScpMiqQMMFAUiQxMSGTAwGOgvF/fbFlrfe7pdjvXuvf7/r/R/7b3PWf7t6yz99r73IBz7ssBE+KsB/A/A/MNgfmGwHxDYL4hMN8QmG8IzDcE5hsC8w2B+YbAfENgviEw3xCYbwjMNwTmGwLzDYH5hiRE+gZ5eXmk29raRFtRURHptLQ00ouLi6Lf1tYW6evra9KPj4+i3/v7O+mvr+jfmkbkGwLzDYH5hgScz+d2UlJSxOeTkxPSubm5oi0+Pv57IIEAaZ2vPz4+SD89PZE+OzsT/U5PT4O2zczMkD4+Pib9+vr6w1/xOyDyDYH5hviedjo7O8XniYmJ75ux1BIuPCV9fn4GbYuLk3HFp6Fcz8/Pi34jIyOkj46Ogl7fDxD5hsB8Q2C+Ib7n/Pr6evGZlwp0Hg4Hnuff3t6CtiUlJYk2fm+vZw+/5vDwsGgbGBgIeu9wQOQbAvMN8T3t8Cqmc86dn5+T5ita5+TUja9iNfx7XtM9XuXU09CEhO8CbmpqKmmvFKTH1NraSnp5eZn0y8tL0Gt4gcg3BOYb4nvaSU5OFp/v7u5I8w0T52QK4QWzi4sL0Y+nsvT09JDGoQtmDw8PP45Dj9eLg4MD0g0NDaQvLy9Fv1BnQoh8Q2C+ITDfEN830PVU8P7+nrTO+Xyal5iYSHptbU30499rbGwknZmZGXQceoXLrx8uBQUFpPmzItxqJyLfEJhviO9ph29UOOfczs4OaV1048UunhbKy8tFv6amJtLT09Ok+/v7Rb/KykrSfEXrnPcecajw8fKprF65aw+CXi+sUQBfgPmGwHxDfC8vaEpLS0lvbGyItqysrB+/o6uJVVVVpPm5TZ278/PzSY+Ojoo2/jzIyMggrfM1fzboauXKygrprq4u0nw67RzKCzEBzDck4mmH/xs3NzeLtrGxMdI5OTlBr7G/v0+6oqKCNK9UanQ6yc7OJl1WVkaar5idk1XY1dVV0XZ4eEj65uaGNFa4MQjMNyTiaUfcTO2XVldXk+Z7ovqkM/+33tzcJF1bWyv66TdVQkGvhPner94H9htEviEw3xCYb8iv5vy/bs6eAR0dHaT5sXLnZDWR5//19XXRr6amhnSolUVLEPmGwHxDTNMOh2+mzM3NiTa+mcJTlZ4KTk1Nke7u7hZt0ZiGEPmGwHxDoibtcHi93Tnntre3SRcXF5PWK2Y+E1paWhJtLS0tpC3fveUg8g2B+YbAfEOiMudr6urqSC8sLJDWRwI5ehrKf+tndnbWx9GFDyLfEJhvSEykHc7k5CTp9vZ20eb1nu/V1RXpwsJC0vyNmN8GkW8IzDcE5hsSczmflxT0EfHe3l7SOv/z0sPQ0BDpvr4+v4cYMoh8Q2C+ITGXdji6qjk+Pk6anyJ2Tqah29tb0vq3Ip6fn/0coieIfENgviER/yHrSKJPB/f09JDWp5T5api/Q1tSUiL67e7u+jlETxD5hsB8Q2C+ITGd8zX8TZXBwUHRxt9o4b/lwDfknXNub2+PNI6I/8PAfENieoUbLny1G+nU4jkOszsDmG8JzDfkv8z50QIi3xCYb8gfyMhrhBjmpXMAAAAASUVORK5CYII=\" y=\"-6.776271\"/>\n   </g>\n   <g id=\"patch_3\">\n    <path d=\"M 10.7 101.776271 \nL 10.7 7.2 \n\" style=\"fill:none;stroke:#000000;stroke-linecap:square;stroke-linejoin:miter;stroke-width:0.8;\"/>\n   </g>\n   <g id=\"patch_4\">\n    <path d=\"M 105.276271 101.776271 \nL 105.276271 7.2 \n\" style=\"fill:none;stroke:#000000;stroke-linecap:square;stroke-linejoin:miter;stroke-width:0.8;\"/>\n   </g>\n   <g id=\"patch_5\">\n    <path d=\"M 10.7 101.776271 \nL 105.276271 101.776271 \n\" style=\"fill:none;stroke:#000000;stroke-linecap:square;stroke-linejoin:miter;stroke-width:0.8;\"/>\n   </g>\n   <g id=\"patch_6\">\n    <path d=\"M 10.7 7.2 \nL 105.276271 7.2 \n\" style=\"fill:none;stroke:#000000;stroke-linecap:square;stroke-linejoin:miter;stroke-width:0.8;\"/>\n   </g>\n  </g>\n  <g id=\"axes_2\">\n   <g id=\"patch_7\">\n    <path d=\"M 124.191525 101.776271 \nL 218.767797 101.776271 \nL 218.767797 7.2 \nL 124.191525 7.2 \nz\n\" style=\"fill:#ffffff;\"/>\n   </g>\n   <g clip-path=\"url(#pc4e1cc4ee9)\">\n    <image height=\"95\" id=\"image75a3a04077\" transform=\"scale(1 -1)translate(0 -95)\" width=\"95\" x=\"124.191525\" xlink:href=\"data:image/png;base64,\niVBORw0KGgoAAAANSUhEUgAAAF8AAABfCAYAAACOTBv1AAAE1ElEQVR4nO2cyyvtURTH9/F+5FkeRUgYCAORSCQykJRiZKqkJPI/KJSBUgzxB5gwI8WQMmDkFXlF8sz7dWfLWvvec+65557z+57rrs/oq73w873rrrP3+u29XcaYT6NACEE/wP+Mmg9EzQei5gNR84Go+UDUfCBqPhA1H0iYr98YEvL179ba2kq6qalJxJWXl5MODw8XY/v7+6TX1tZILywsiLiNjQ3S19fXpD8+Pv7soYMMzXwgaj4QNR+Iy3joakZFRZF+enoSYxUVFaRnZ2dJp6amirjQ0FC3v5zXbP7zb25u5EO6XKSPj49J9/T0iLjV1VXS7+/vbn9vsKCZD0TNB+Kx7MTExJCOj48XY0tLS6TT0tJIJyYmirjPz68ff35+Lsbu7u5Ix8bGkk5KShJxvPzxEmRPNY+OjkhXV1eLscPDQxNsaOYDUfOBeFzh8hlIQkKCGDs4OCDNS8bu7q6Im5qa+qU2xpjHx0fS0dHRpBsaGkTc8PAw6ezsbNL2ijkrK4v0zs6OGOvr6yM9MTFBmpdFp9HMB6LmA1HzgXicanLslWpLSwtpPg1dXFwUcaenp6R9XXXy2l5SUkJ6enpaxBUUFJAOC5MfZ29vb6QHBgZIj42N+fRM/kAzH4iaD8TrsvPTN7KVJv8v/vr6+tcP5S1xcXHi65GREdKdnZ1ijJfNy8tL0rm5uSLObuoFEs18IGo+EDUfiM81PxjhbY75+XkxxrucvK1RW1sr4tbX10kHuvWgmQ9EzQfi876dYOT+/p50V1eXGON7gfjLGf7CyBhnu5ya+UDUfCDfquxwzs7OxNdXV1ek+Sr25OTEsWey0cwHouYDUfOBQGs+74x6wpfpn/0yhXdbeVeTa6fRzAei5gNxtOzYZYa/+01JSSGdnp4u4ra2tkjf3t6Stt8J83e9RUVFYuzh4YH03t4eab5l0Wk084Go+UDUfCDQqSbf4t3d3U26sbFRxPFp4vPzM+mIiAgRxz8P+GlJY4zZ3t4mPTk5SRp5gkUzH4iaD8TRsmOvVF9eXkgvLy+TzsnJEXGZmZmkS0tLSdtlh8Pf0xojty3yEyxINPOBqPlAHN06Ys9AeNngq93k5GQRx5tkbW1tpPv7+0WcfWiPw1eyVVVVpDc3N3/32AFDMx+Img9EzQfiaM23T7fww868ztvbtPkLD965LCsrE3Gjo6Oki4uLxRjvqPID0fwOCWOMubi4cP8H+BnNfCBqPhDoVLOyspJ0c3MzafuOhpWVFdL8ajB+cNoYecUYP/RsjDyBwp9jbm5OxHV0dJDmL2ACgWY+EDUfCLSfz+9KqKmpIV1YWCjieM+dN8h4/94YefWMfVcEb+LxclVfXy/ient7SQ8NDYkxf+9g1swHouYDUfOBOFrz7Wu5+DQvIyODdH5+vohztxL2druhDa/d9skUfjvu+Pi4GPP3Hh/NfCBqPpCgOYfLV538WhdjjJmZmSGdl5dH2t6JzBt33k4L+VYUY+Stie3t7WLM3ytezXwgaj4QNR9I0NR8T/ApZWRkJGn70uy6ujrS9hZx/lnBD0HbN80ODg6S5h3UQKCZD0TNB/JPlJ3vimY+EDUfiJoPRM0HouYDUfOBqPlA1Hwgaj4QNR+Img9EzQei5gNR84Go+UDUfCA/ABDETwJQlzr2AAAAAElFTkSuQmCC\" y=\"-6.776271\"/>\n   </g>\n   <g id=\"patch_8\">\n    <path d=\"M 124.191525 101.776271 \nL 124.191525 7.2 \n\" style=\"fill:none;stroke:#000000;stroke-linecap:square;stroke-linejoin:miter;stroke-width:0.8;\"/>\n   </g>\n   <g id=\"patch_9\">\n    <path d=\"M 218.767797 101.776271 \nL 218.767797 7.2 \n\" style=\"fill:none;stroke:#000000;stroke-linecap:square;stroke-linejoin:miter;stroke-width:0.8;\"/>\n   </g>\n   <g id=\"patch_10\">\n    <path d=\"M 124.191525 101.776271 \nL 218.767797 101.776271 \n\" style=\"fill:none;stroke:#000000;stroke-linecap:square;stroke-linejoin:miter;stroke-width:0.8;\"/>\n   </g>\n   <g id=\"patch_11\">\n    <path d=\"M 124.191525 7.2 \nL 218.767797 7.2 \n\" style=\"fill:none;stroke:#000000;stroke-linecap:square;stroke-linejoin:miter;stroke-width:0.8;\"/>\n   </g>\n  </g>\n  <g id=\"axes_3\">\n   <g id=\"patch_12\">\n    <path d=\"M 237.683051 101.776271 \nL 332.259322 101.776271 \nL 332.259322 7.2 \nL 237.683051 7.2 \nz\n\" style=\"fill:#ffffff;\"/>\n   </g>\n   <g clip-path=\"url(#pab28d43480)\">\n    <image height=\"95\" id=\"image8cd71136ca\" transform=\"scale(1 -1)translate(0 -95)\" width=\"95\" x=\"237.683051\" xlink:href=\"data:image/png;base64,\niVBORw0KGgoAAAANSUhEUgAAAF8AAABfCAYAAACOTBv1AAAE6ElEQVR4nO2cyyu1bRTGlzM5lVCYCAPCRA4ZOE2YKCYmmJn6D5SBmSFJEQMz5ZDERElJSkk5RzFxTDnkfPbN1rfW/b60X9+zXe33W7/RtVurZz9drb32/Tz3IYiIPsiAEIy+gf8zZj4QMx+ImQ/EzAdi5gMx84GY+UDMfCBmPhAzH4iZD8TMBxLqxUWCgoJYl5WVqdjAwADrjIwMFXt/f2e9t7fHemhoSOX19/ezvry8ZP3xEdgvZK3ygZj5QILI48mU6upq9XlsbIx1dHS0/nLRrt7e3ljf3d2pvIuLC9ZTU1OsFxcXVd7q6irrk5MTFbu9vWX9+vrKGtm6rPKBmPlAPG878fHx6vPk5CTr4uJiFYuIiGAtf/6Pj48qT46KpHbb08PDA+uoqCgV29nZYd3Z2cl6e3tb5Z2enrJ+fn5WMa9blFU+EDMfiJkPxPOeL4ePREQFBQWsR0dHVSwtLY11SEgIa7fXyv8AOUyMjIxUeaGhob/VRLpfy2scHR2pvImJCdby6ZyI6Pj4mPXT0xPrl5eXT7/rK6zygZj5QDxvO798gWhDpaWlKiZfoKWnp7N2f7byJy5frLktTg4v3bYTFhbGWg5X3RZ3cHDAenBwUMVmZ2d/ex9nZ2cqT17/qxZklQ/EzAdi5gPxe8//Cjm5srS0xDohIUHlffb28/DwUOUtLCywnp6eVjE5lA0O/rfmwsPDVd7Gxsan1z8/P2ct+7oNNQMQMx+IJ3O432V/f5+1HGrOzMyovKKiItZyCJmamqry5M/fvcbV1ZVP9yTbk3wSJrK3mn8VZj4Q6GjHV1JSUlivra2xjouLU3nySbOurk7FVlZW/HR338cqH4iZD8TMBxIQPV+SlJTEen19XcUSExNZ7+7uqlhhYSHr+/t7P93dn2GVD8TMBxJwbUfS0tKiPvf19bGWL8+I9BC1pKSEtZyo+Wms8oGY+UDMfCAB3fPdvi4nQrKzs1VMvpFsbW1lLXe9EOnJGn9jlQ/EzAcS0G3HJS8vj7W7ayUmJoa1XC5eUVGh8tw1OP7EKh+ImQ/kr2o7conJ8PCwitXX17OWI5q2tjaV19XVxVouD/EHVvlAzHwgZj4Qz3u+XPfi4q578WdPlZMuRHpXpHz6nZ+fV3kNDQ2s3eXjXmOVD8TMB+L5kS+5ubkqlp+fz9pd9bu8vMza3dD8X7m+vlaf5+bmWOfk5LCW875ERLGxsazlquSvcFc6+9qurPKBmPlAPGk7crOZnB8lIqqpqWGdlZWlYvKIlvb2dtZyUxrR90ZF7tkLckWznAdITk5Wee4cgS98d1RklQ/EzAdi5gPxpOfLnjc+Pq5itbW1rDMzM1VMDkMbGxtZb25uqrze3l7WIyMjrN3hpPzvaWpqUrGqqirWcmjo9nh/v8mUWOUDMfOB+H0ypby8nLVsGUS/DvN8QW5Sk6cOEukTBN2nTnn8mNw419HRofJ6enpY+3sZiVU+EDMfiJkPxO89X06uyKElkT5vR8bcc3Q+w+3J8rPs/0T6/0FukHYn0H3dLO0FVvlAzHwgP7pux32alAdbV1ZWsm5ublZ58nBseQqt+zbx5uaG9dbWlop1d3ezlksJ3TbzkwdbW+UDMfOB/FXLBQMNq3wgZj4QMx+ImQ/EzAdi5gMx84GY+UDMfCBmPhAzH4iZD8TMB/IPuO2jgysv9/AAAAAASUVORK5CYII=\" y=\"-6.776271\"/>\n   </g>\n   <g id=\"patch_13\">\n    <path d=\"M 237.683051 101.776271 \nL 237.683051 7.2 \n\" style=\"fill:none;stroke:#000000;stroke-linecap:square;stroke-linejoin:miter;stroke-width:0.8;\"/>\n   </g>\n   <g id=\"patch_14\">\n    <path d=\"M 332.259322 101.776271 \nL 332.259322 7.2 \n\" style=\"fill:none;stroke:#000000;stroke-linecap:square;stroke-linejoin:miter;stroke-width:0.8;\"/>\n   </g>\n   <g id=\"patch_15\">\n    <path d=\"M 237.683051 101.776271 \nL 332.259322 101.776271 \n\" style=\"fill:none;stroke:#000000;stroke-linecap:square;stroke-linejoin:miter;stroke-width:0.8;\"/>\n   </g>\n   <g id=\"patch_16\">\n    <path d=\"M 237.683051 7.2 \nL 332.259322 7.2 \n\" style=\"fill:none;stroke:#000000;stroke-linecap:square;stroke-linejoin:miter;stroke-width:0.8;\"/>\n   </g>\n  </g>\n  <g id=\"axes_4\">\n   <g id=\"patch_17\">\n    <path d=\"M 351.174576 101.776271 \nL 445.750847 101.776271 \nL 445.750847 7.2 \nL 351.174576 7.2 \nz\n\" style=\"fill:#ffffff;\"/>\n   </g>\n   <g clip-path=\"url(#p8cf93dce1c)\">\n    <image height=\"95\" id=\"image5dfe9fae7f\" transform=\"scale(1 -1)translate(0 -95)\" width=\"95\" x=\"351.174576\" xlink:href=\"data:image/png;base64,\niVBORw0KGgoAAAANSUhEUgAAAF8AAABfCAYAAACOTBv1AAAEgUlEQVR4nO2cyyuuURTG98ch99vAiKLcQ0wQI6WYGJhJmZkYMDGSiYGYMpF/gIxQZEAYiXJN5JbInRLKLdczW2etfQ7Hcd73W+ftPL/Rs1v7Y3taVuvbe7+vzxjzZjxEQEAAaZ/PJ2IvLy/+Xs5fEfD7KcAtYL4i37QX8KcEBQWRHhsbE7GYmBjSxcXFInZ7e+vqur4CMl8RmK8IzFfEZzzcavb394tYREQE6fX1dRFrampyd2FfAJmvCMxXxHOt5tvbjyoZFRUlYikpKaQnJib8tqavgsxXBOYrAvMV8XTNb29vFzHeekZGRvptTV8Fma8IzFfEc2WHMz8/L8YnJyek8/LyRIwfvPDSpQkyXxGYr4iny87Dw4MYLy4uki4qKhKx0NBQ0nd3d+4u7JMg8xWB+YrAfEU8XfNfX1/FeHJyknR1dbWI5ebmkp6dnXV3YZ8Ema8IzFfE02XHZmZmhvT9/b2INTY2kkbZATBfE5iviOM1PzAwUIwLCwtJp6enixi/P3l0dET64OBAzDs8PCRtt5ec4+Nj0qOjoyIWGxtLmt/9+ejnuQ0yXxGYr4jjZWdwcFCMS0tLSYeEhIgY//d/enoiPTc3J+Y1NDSQ3tzcJG3vaj4/P5Pu7OwUsfLyctL8vs/V1dVPf4O/QOYrAvMVcaTs8PPR5ORkEeM3h214p/HRNcDKykrSvEycnp6KefyBuPPzcxHjn4uPjyd9fX0t5vnzfBeZrwjMVwTmK+J4q8nbRxu7no6MjJDu6Oggvb29LebxJxDDw8NJx8XFvfu7eV03xpjs7GzS/E4P3+00Rra8boPMVwTmK+JI2eHlZHl5WcQyMjLe/dze3h7pzx5wBAcHk05LSxOxnJwc0nV1dSKWlZVFml8rLCgoEPOmp6c/tQ4nQOYrAvMVgfmKOP4QdFJSkhgvLS2Rjo6OFrGtrS3SvP2zdys5fCuDt53GGFNSUkK6u7tbxBISEkg/Pj6S3t3dFfP4LuzFxcW763ACZL4iMF8Rx8uO/eotfqhRX18vYvyb69TUFOna2loxj5/N8p/P205jjAkLCyNdVlYmYi0tLaT5zis/OzbGmKqqKtIbGxvGTZD5isB8RVx/5QsvLQMDAyJWUVHxy8+srKyIcVdXF+nx8XHS9rUP/sSJfYjDu6nW1lbS9sFNc3Mz6aGhoV+uzymQ+YrAfEVgviJ+fc2XfW+np6eHdH5+PunMzEwxj1/3vry8JG3vhA4PD5NeW1sTMX7QUlNTQ5pfRTRGHvDs7OyImNOH68h8RWC+Iv/M2wV5S2qXnd7eXtKJiYmk7W+4vDzZ7er+/j7pm5sb0m1tbWIe30zjG3BugMxXBOYr8s+UnY/gnQo/E7ZvIvOOiZcWY2Qn1NfXR3phYUHMw9WR/wSYrwjMV8QTNf897IfveBuampoqYqurq6TPzs5I44G4/xSYr4iny47XQeYrAvMVgfmKwHxFYL4iMF8RmK8IzFcE5isC8xWB+YrAfEVgviIwXxGYrwjMVwTmKwLzFYH5isB8RWC+IjBfEZivyHe15jp9dX6pIgAAAABJRU5ErkJggg==\" y=\"-6.776271\"/>\n   </g>\n   <g id=\"patch_18\">\n    <path d=\"M 351.174576 101.776271 \nL 351.174576 7.2 \n\" style=\"fill:none;stroke:#000000;stroke-linecap:square;stroke-linejoin:miter;stroke-width:0.8;\"/>\n   </g>\n   <g id=\"patch_19\">\n    <path d=\"M 445.750847 101.776271 \nL 445.750847 7.2 \n\" style=\"fill:none;stroke:#000000;stroke-linecap:square;stroke-linejoin:miter;stroke-width:0.8;\"/>\n   </g>\n   <g id=\"patch_20\">\n    <path d=\"M 351.174576 101.776271 \nL 445.750847 101.776271 \n\" style=\"fill:none;stroke:#000000;stroke-linecap:square;stroke-linejoin:miter;stroke-width:0.8;\"/>\n   </g>\n   <g id=\"patch_21\">\n    <path d=\"M 351.174576 7.2 \nL 445.750847 7.2 \n\" style=\"fill:none;stroke:#000000;stroke-linecap:square;stroke-linejoin:miter;stroke-width:0.8;\"/>\n   </g>\n  </g>\n  <g id=\"axes_5\">\n   <g id=\"patch_22\">\n    <path d=\"M 464.666102 101.776271 \nL 559.242373 101.776271 \nL 559.242373 7.2 \nL 464.666102 7.2 \nz\n\" style=\"fill:#ffffff;\"/>\n   </g>\n   <g clip-path=\"url(#pc52a7f4fbe)\">\n    <image height=\"95\" id=\"image7c9fde62bd\" transform=\"scale(1 -1)translate(0 -95)\" width=\"95\" x=\"464.666102\" xlink:href=\"data:image/png;base64,\niVBORw0KGgoAAAANSUhEUgAAAF8AAABfCAYAAACOTBv1AAADdElEQVR4nO2cPUsrQRSGJ36lECRCsEtnFQsrQUQMpAg2WqSJlYUIYmEnNmqjwSJIQAMpbP0ZItjYWgiKCqIWNmKjoBiJ5nbnnrPi5X7M3jebvE/1hhmS4fFwnOzOJuacazgCoQO9gHaG8oFQPhDKB0L5QCgfCOUDoXwglA+ky/cbxmKxb8caDX6Z1rDygVA+EMoH4qXn6z4/MzNjxnK5nOShoSEzNjs7K/ni4sLHUiIFKx8I5QPx0nb0FvLt7c2MTUxMSO7r6zNj5XJZcj6f//Y9WhVWPhDKBxJznu/hplIp83p+fl6ybi3OOZdIJCTrFrS7u2vmfXx8eFxh88DKB0L5QCgfiPeeH6Sr6+dudnBw0IwtLS1JHhkZkby2tmbmHRwcSG6lK6OsfCCUDyT0tqPp6LB/a73VXF9flzw6OmrmTU1NSX58fAxncQBY+UAoHwjlA/mvPf/Lh6ubMOl0WvLh4aGZd35+LnlyclLy+/t7iKsLH1Y+EMoH4v3czp+gv63e3NxIPjo6MvMKhYLkvb09yXNzc2be5+en5xWGCysfCOUDge52NHrnMzAwYMbOzs4k9/f3S15eXjbzdnZ2JEehBbHygVA+EMoH0jQ9/1eMj49L1t9+n56ezDx9Q+bu7i78hf0jrHwglA8kEm1H34SpVquSFxYWzLyTkxPJ+piic869vLyEtLq/h5UPhPKBUD6QSPR8jb7pfn9/b8bi8bjk7e1tM7a6uiq5Wc5+svKBUD6QyLUdzcrKinm9tbUl+eHhwYyNjY1Jvr29DXVdvwsrHwjlA4l02wkePzw+PpY8PDxsxkqlkuTNzU3JyJ0PKx8I5QOhfCCR7vlB9EPW+mkW55zr6emRrH8f4vLyMvyFfQMrHwjlA4EeF/TN8/Oz5MXFRTNWqVQkZzIZydfX12ZevV4PaXVfYeUDoXwgLbXb0ejnf52zrSabzUre3983866uriSHfeSQlQ+E8oFQPpCW7flBuru7JW9sbEgO/pZDsViU/Pr6GuqaWPlAKB9I27QdTW9vr+Tp6Wkzdnp6Klk//+uc/5+bYeUDoXwglA+kLXu+JplMmtf6/0HwOKLvK56sfCCUD6Tt204QfTW0s7PTjNVqNa+fxcoHQvlA2HaAsPKBUD4QygdC+UAoHwjlA6F8IJQPhPKBUD4QygdC+UAoH8gPDujD1fp9FhYAAAAASUVORK5CYII=\" y=\"-6.776271\"/>\n   </g>\n   <g id=\"patch_23\">\n    <path d=\"M 464.666102 101.776271 \nL 464.666102 7.2 \n\" style=\"fill:none;stroke:#000000;stroke-linecap:square;stroke-linejoin:miter;stroke-width:0.8;\"/>\n   </g>\n   <g id=\"patch_24\">\n    <path d=\"M 559.242373 101.776271 \nL 559.242373 7.2 \n\" style=\"fill:none;stroke:#000000;stroke-linecap:square;stroke-linejoin:miter;stroke-width:0.8;\"/>\n   </g>\n   <g id=\"patch_25\">\n    <path d=\"M 464.666102 101.776271 \nL 559.242373 101.776271 \n\" style=\"fill:none;stroke:#000000;stroke-linecap:square;stroke-linejoin:miter;stroke-width:0.8;\"/>\n   </g>\n   <g id=\"patch_26\">\n    <path d=\"M 464.666102 7.2 \nL 559.242373 7.2 \n\" style=\"fill:none;stroke:#000000;stroke-linecap:square;stroke-linejoin:miter;stroke-width:0.8;\"/>\n   </g>\n  </g>\n  <g id=\"axes_6\">\n   <g id=\"patch_27\">\n    <path d=\"M 578.157627 101.776271 \nL 672.733898 101.776271 \nL 672.733898 7.2 \nL 578.157627 7.2 \nz\n\" style=\"fill:#ffffff;\"/>\n   </g>\n   <g clip-path=\"url(#p670c628f9b)\">\n    <image height=\"95\" id=\"imagefe4b01dd11\" transform=\"scale(1 -1)translate(0 -95)\" width=\"95\" x=\"578.157627\" xlink:href=\"data:image/png;base64,\niVBORw0KGgoAAAANSUhEUgAAAF8AAABfCAYAAACOTBv1AAAEO0lEQVR4nO2cSyi1URSG93EduJRLJgbuURgbUJQoI8lAKTMzAwMxkpQMpCQZMzGhpCSXjA0kJQkzRUJJIrfc/tn619r9p6jzfa/jf5/Ru9srdm+rdfb1izjnPh2BkIAewP8MzQdC84HQfCA0HwjNB0LzgdB8IDQfCM0HQvOB0HwgNB8IzQdC84HQfCBJyH+emJgoOiHhbx68v7+buI+Pj9DGFCbMfCA0H0ioZSczM9O0Z2dnRVdVVYk+OjoycfPz86IXFhZE++Up3mDmA6H5QGg+kFBrfnt7u2k3NTWJzsjIEF1SUmLi6urqRJeXl4seGxszcU9PTzEZZ1gw84HQfCCBlx29cs3LyzN9b29vovUqVq98nXMuJydHdF9fn+iCggITNz09Lfr4+Nj0PTw8fGfYocDMB0LzgdB8IBEX4hXxmpoa015aWhKt63pSkv0p0tsINzc3ov1tCN3n/x709vaK3tra+s6wA4OZD4TmAwl1hXt+fm7aZ2dnorOyskQ/Pj6aOD1N3N/fF31xcWHi0tPTRfvT2qGhoX/q7e3tL409CJj5QGg+kFDLztXVlWlvbGyIrqioEB2JREzc5eWl6NfXV9HV1dUmLjc3V3RqaqrpKy0tFd3f3y+6u7vbxN3e3kYdf6xh5gOh+UBoPpBQV7g+ehW6srIiurCw0MTp3c+7uzvR2dnZJi45OVm0f7iekpIiWk95R0dHTdzMzEzUvxFrmPlAaD4Q6HXB09NT0V1dXaIXFxdNnC5PaWlpoj8/o1dMf7qqN+v0/SF/uqrPkoOedjLzgdB8IDQfCLTm65q9t7cnenh42MTpO516OqmnoM459/z8LNo/MNc7pXq6urm5GTUuaJj5QGg+EGjZicbc3Jxpl5WViR4YGBDtn/XqqaF/lVCXpIODA9G7u7smTu+aBg0zHwjNBwLdWPsqerW6vLwsurm52cTpWUxDQ4PpOzk5Ea1LEPKxHTMfCM0HQvOB/Mippo9eCXd2dorWB/DO2RctenrqnL0y/lMeVTPzgdB8IHEx1YxGS0uLaU9MTIje2dkxfT09PaLv7++DHdgXYeYDoflA4mK2E4319XXTbmxsFN3R0WH66uvrRa+urormCvc/heYDoflA4nqq6aPv3IyPj5u+l5cX0SMjI6Kvr6+DH1gUmPlAaD6QX1V29KFLcXGx6dOl5vDwUPTU1JSJ0wcyQcPMB0LzgdB8IL+q5mvy8/NNe21tTXRRUZFofU3ROedaW1tF6285BAEzHwjNB/Jry47+IqFzdidTr4T9XU19CFNbW2v6Yv1AjpkPhOYDievDFP1Qwjn77QX/MZsuO21tbaL11w+ds1+8qqysNH36czOxgJkPhOYDoflA4rrm+69I9H0c/9XK5OSkaP1boR9VO+fc4OCgaP2CJQiY+UBoPpBfu8KNB5j5QGg+EJoPhOYDoflAaD6QP32XKau4TjRDAAAAAElFTkSuQmCC\" y=\"-6.776271\"/>\n   </g>\n   <g id=\"patch_28\">\n    <path d=\"M 578.157627 101.776271 \nL 578.157627 7.2 \n\" style=\"fill:none;stroke:#000000;stroke-linecap:square;stroke-linejoin:miter;stroke-width:0.8;\"/>\n   </g>\n   <g id=\"patch_29\">\n    <path d=\"M 672.733898 101.776271 \nL 672.733898 7.2 \n\" style=\"fill:none;stroke:#000000;stroke-linecap:square;stroke-linejoin:miter;stroke-width:0.8;\"/>\n   </g>\n   <g id=\"patch_30\">\n    <path d=\"M 578.157627 101.776271 \nL 672.733898 101.776271 \n\" style=\"fill:none;stroke:#000000;stroke-linecap:square;stroke-linejoin:miter;stroke-width:0.8;\"/>\n   </g>\n   <g id=\"patch_31\">\n    <path d=\"M 578.157627 7.2 \nL 672.733898 7.2 \n\" style=\"fill:none;stroke:#000000;stroke-linecap:square;stroke-linejoin:miter;stroke-width:0.8;\"/>\n   </g>\n  </g>\n  <g id=\"axes_7\">\n   <g id=\"patch_32\">\n    <path d=\"M 691.649153 101.776271 \nL 786.225424 101.776271 \nL 786.225424 7.2 \nL 691.649153 7.2 \nz\n\" style=\"fill:#ffffff;\"/>\n   </g>\n   <g clip-path=\"url(#p5b0a7afa4e)\">\n    <image height=\"95\" id=\"image626b4c9ac8\" transform=\"scale(1 -1)translate(0 -95)\" width=\"95\" x=\"691.649153\" xlink:href=\"data:image/png;base64,\niVBORw0KGgoAAAANSUhEUgAAAF8AAABfCAYAAACOTBv1AAAFC0lEQVR4nO2dSyitbRTH13Yvl4SiGAnlkutAokykMBMzTGRgQikTUWYGihgZmRIllIGilJIM3AmlECL33O/fbH1rPe29c/Z5373szvqN/m/r2fZz/i2P9dze4wCAb1BE8JPuwL+Mmi+Imi+Imi+Imi+Imi+Imi+Imi+Imi9IgHQHfoLD4XCqv76+JLpjGZr5gqj5gqj5goiO+REREajb29tR19fXu2xHx/zn52fW7vLyEvXg4CCL9fT0oH58fPSwx9aimS+Imi+IA7y4mUKHDwCAmZkZ1Dk5Oaj9/H6WE3QIAgD4/v52qgEATk5OUJeXl6Pe29tj7d7f33/03VagmS+Imi+I7cNOSEgI6qWlJRZLSUlB/fr6inptbY21W1lZQX1wcOD08wAApaWlqOPi4lgsMDAQ9fX1Nerx8XHWrqWlBfXT0xPYiWa+IGq+IGq+ILbPcDs7O1EnJSWx2P39Peru7m7UfX19rB0t/8wSkhIQ8P8/p6qqisUaGxtRZ2RkoK6srGTtZmdnUY+NjbHY5+eny+/2BM18QdR8QSwvNc3ZKS3rzBnu3d0d6tTUVNRnZ2dWdgkAAPz9/VGXlZWh7u3tZe3oBo05JG1tbVnaJ818QdR8QdR8QSwvNWm5B8DHWnerkBcXF1Z3hUHLxKmpKdTx8fGsHV1eaGpqYjH6TJdDPEUzXxA1XxDLS026egjA91XNUvPh4QF1ZGQkaqtnku4w+zQ9PY06PT2dxeg+c39//19/t2a+IGq+IJZXO+Ye6Pb2Nur8/HwWu7q6Qi119O/l5YU908W+oKAgFquoqECtw46Po+YLouYLYvtmSkdHB2o6swQA+Pj4QE1L1Le3N7u7hZhl7fz8POri4mIWoxv2dLbuboPHHZr5gqj5gtg+7NBf45ubGxaLjo5GnZiYiHpnZ8fubiHmYl9BQQFqc5EwPDzc6ed02PFB1HxB1HxBbB/z6abD8vIyi5WUlKCmZyYzMzNZOztLz6ioKPZcWFiI2vx7QA8DWLEcopkviJoviFcvxA0MDLBneqQ7OTkZ9ebmJmuXl5eHmq46ego9W1RXV8didKgxV2jNMz5/3Q9Lf5ryR6j5gnj1QlxwcDB7vr29RU1vsJgzRjrjbWhoQL26usra0ZskZqVCZ6sJCQmoh4aGWLu0tDTUu7u7LFZUVITa3ITxBM18QdR8QdR8Qbw65puMjo6iNm+SUOhsko7zw8PDrN3x8THq09NTFqMrqtXV1ajpKqb5udbWVhY7Pz932UdP0MwXRM0XRHTYiY2NRX10dITaPC9DS096a2Vubo61Ozw8RJ2bm8ti+/v7qGNiYlDTC3AAABMTE06/yw408wVR8wURfdMUrR4WFhZQm0c2KHRRzHzTFJ1B02EGgL+zgV5sGxkZYe3MfWY70cwXRM0XRM0X5Ne8Uba2thb1xsYGi4WFhaEODQ1FTW+zAPDXhtGLeAD8jYL0/T10ZdXbaOYLouYLIjrDpdDND3rxDACgra0NNd0UMfdYaQlpzn4XFxdRT05OuvwZ3kQzXxA1XxA1X5BfU2rSlcuuri4Wy8rKQk3P+tCyEwAgOzsbtflqR7pJ8lv+0wPNfEHUfEF+TanpDnqmh16wq6mpYe3oiuf6+jqLNTc3o6Yrnp7eKrECzXxB1HxBfGLYcYW7N1f5Apr5gqj5gqj5gvj0mO/raOYLouYLouYLouYLouYLouYLouYLouYLouYL8h9v/4WB1Tyj7QAAAABJRU5ErkJggg==\" y=\"-6.776271\"/>\n   </g>\n   <g id=\"patch_33\">\n    <path d=\"M 691.649153 101.776271 \nL 691.649153 7.2 \n\" style=\"fill:none;stroke:#000000;stroke-linecap:square;stroke-linejoin:miter;stroke-width:0.8;\"/>\n   </g>\n   <g id=\"patch_34\">\n    <path d=\"M 786.225424 101.776271 \nL 786.225424 7.2 \n\" style=\"fill:none;stroke:#000000;stroke-linecap:square;stroke-linejoin:miter;stroke-width:0.8;\"/>\n   </g>\n   <g id=\"patch_35\">\n    <path d=\"M 691.649153 101.776271 \nL 786.225424 101.776271 \n\" style=\"fill:none;stroke:#000000;stroke-linecap:square;stroke-linejoin:miter;stroke-width:0.8;\"/>\n   </g>\n   <g id=\"patch_36\">\n    <path d=\"M 691.649153 7.2 \nL 786.225424 7.2 \n\" style=\"fill:none;stroke:#000000;stroke-linecap:square;stroke-linejoin:miter;stroke-width:0.8;\"/>\n   </g>\n  </g>\n  <g id=\"axes_8\">\n   <g id=\"patch_37\">\n    <path d=\"M 805.140678 101.776271 \nL 899.716949 101.776271 \nL 899.716949 7.2 \nL 805.140678 7.2 \nz\n\" style=\"fill:#ffffff;\"/>\n   </g>\n   <g clip-path=\"url(#pe726e9055b)\">\n    <image height=\"95\" id=\"image50dbbc2f99\" transform=\"scale(1 -1)translate(0 -95)\" width=\"95\" x=\"805.140678\" xlink:href=\"data:image/png;base64,\niVBORw0KGgoAAAANSUhEUgAAAF8AAABfCAYAAACOTBv1AAAEVklEQVR4nO2cyyutfRTHn83rPlEuiXIrhBFCUSaUoaIoU2SglAwMlIGSMjVQ5G+QZEJJKVJuKZQBcpkQcr/k8s7Wu9bT2b3Htrfvs8/5fkbffdbaznO+rbP8fs9vPY/PcZxPh0CIQF/A3wzNB0LzgdB8IDQfCM0HQvOB0HwgNB8IzQdC84HQfCA0HwjNB0LzgdB8IDQfCM0HQvOB/IO+gN8hJiZGdGNjo+jm5maTd3d3J3p+ft7EVldXRZ+cnIh+eXkxeR8fH9+72C/AygdC84HQfCA+x4NzO3Fxceaz7tfFxcV+v/f4+Og3trm5KXptbU303NycyVtYWBD9+vr6/xf7DVj5QGg+EM8sNePj40UPDw+bWEFBgeiIiP/q5fPTdsz393fRGxsbJnZ1dSU6JSVFdG1trcnLyckRPT4+7vfnBwNWPhCaD4TmA4H2fJ/PJ3pgYEB0Q0ODyTs9PRWdnp4u+u3tzeStr6+L7ujoMLH7+3vRubm5ooeGhkyeju3u7prY0tKS6GDchmDlA6H5QKBtR+9kq6urRbv/u8/MzIju6ekRnZWVZfL0cvXi4sLEHh4eRN/e3ore3t42eaWlpaJ7e3tNTO+M9c8LFFY+EJoPBNp2UlNTRT89PYkeHBw0efv7+6Lz8/NFd3V1mbyysjLRra2tJjY5OSla74z1TTvHcZySkhLRSUlJJhYVFfWLf0XgsPKB0HwgNB8ItOfn5eWJzszMFK0Pwh3HHpJMTU2Jbm9vN3kJCQmiR0ZGTKywsFD00dGR6MrKSpN3eXkpWu+mHYc9/4+C5gOBtp3u7m7RGRkZomtqakze3t6eaL007O/vN3l6iap3u45jl6U3Nzd+r0nvXPW5byhg5QOh+UBoPhBoz8/Ozhate3RiYqLJ07cD9Gzl6OioyZudnRU9MTFhYuXl5aKjo6NF64Max7G/X/r6+kxML0ODASsfCM0HAm07h4eHovUYYFVV1W993z23c3BwILqpqcnE9Dh5Wlqa6MXFRZOnl5funbb77/surHwgNB8ItO2cn5//8s/1ON9X0G3h+vraxPTonx45DPYI4Fdg5QOh+UBoPhDokyl6PFvP5rifCElOThbtHhEMZ1j5QGg+EOhSU8/jREZGinYfhOiz1OPj49Bf2A/BygdC84F4Zofr74E1x7ETzGw7JCjQfCA0Hwh0h6sfiJuenhZdV1dn8nZ2dkTrs9hwh5UPhOYD8cwrX/QTJysrKyamRzaKiopEh/tNNlY+EJoPhOYD8cz7ds7OzkS7D7/1+HhFRYXo5eXl0F9YCGHlA6H5QDyz1NS73fr6ehMbGxsTrcf7Ojs7TV6o3wYYbFj5QGg+EM+sdjRbW1vmsz7fbWlp8fu9trY20T/5QupAYeUDoflAaD4Qz/R8Pd7tHh3XD0XrO57udyPoeR/9NkGvwsoHQvOBeGaHGwixsbHm8/PzM+hKAoOVD4TmA6H5QMK654c7rHwgNB/Iv/7TNItG+ZMiAAAAAElFTkSuQmCC\" y=\"-6.776271\"/>\n   </g>\n   <g id=\"patch_38\">\n    <path d=\"M 805.140678 101.776271 \nL 805.140678 7.2 \n\" style=\"fill:none;stroke:#000000;stroke-linecap:square;stroke-linejoin:miter;stroke-width:0.8;\"/>\n   </g>\n   <g id=\"patch_39\">\n    <path d=\"M 899.716949 101.776271 \nL 899.716949 7.2 \n\" style=\"fill:none;stroke:#000000;stroke-linecap:square;stroke-linejoin:miter;stroke-width:0.8;\"/>\n   </g>\n   <g id=\"patch_40\">\n    <path d=\"M 805.140678 101.776271 \nL 899.716949 101.776271 \n\" style=\"fill:none;stroke:#000000;stroke-linecap:square;stroke-linejoin:miter;stroke-width:0.8;\"/>\n   </g>\n   <g id=\"patch_41\">\n    <path d=\"M 805.140678 7.2 \nL 899.716949 7.2 \n\" style=\"fill:none;stroke:#000000;stroke-linecap:square;stroke-linejoin:miter;stroke-width:0.8;\"/>\n   </g>\n  </g>\n  <g id=\"axes_9\">\n   <g id=\"patch_42\">\n    <path d=\"M 918.632203 101.776271 \nL 1013.208475 101.776271 \nL 1013.208475 7.2 \nL 918.632203 7.2 \nz\n\" style=\"fill:#ffffff;\"/>\n   </g>\n   <g clip-path=\"url(#p7b9d516346)\">\n    <image height=\"95\" id=\"imaged88f1060d7\" transform=\"scale(1 -1)translate(0 -95)\" width=\"95\" x=\"918.632203\" xlink:href=\"data:image/png;base64,\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\" y=\"-6.776271\"/>\n   </g>\n   <g id=\"patch_43\">\n    <path d=\"M 918.632203 101.776271 \nL 918.632203 7.2 \n\" style=\"fill:none;stroke:#000000;stroke-linecap:square;stroke-linejoin:miter;stroke-width:0.8;\"/>\n   </g>\n   <g id=\"patch_44\">\n    <path d=\"M 1013.208475 101.776271 \nL 1013.208475 7.2 \n\" style=\"fill:none;stroke:#000000;stroke-linecap:square;stroke-linejoin:miter;stroke-width:0.8;\"/>\n   </g>\n   <g id=\"patch_45\">\n    <path d=\"M 918.632203 101.776271 \nL 1013.208475 101.776271 \n\" style=\"fill:none;stroke:#000000;stroke-linecap:square;stroke-linejoin:miter;stroke-width:0.8;\"/>\n   </g>\n   <g id=\"patch_46\">\n    <path d=\"M 918.632203 7.2 \nL 1013.208475 7.2 \n\" style=\"fill:none;stroke:#000000;stroke-linecap:square;stroke-linejoin:miter;stroke-width:0.8;\"/>\n   </g>\n  </g>\n  <g id=\"axes_10\">\n   <g id=\"patch_47\">\n    <path d=\"M 1032.123729 101.776271 \nL 1126.7 101.776271 \nL 1126.7 7.2 \nL 1032.123729 7.2 \nz\n\" style=\"fill:#ffffff;\"/>\n   </g>\n   <g clip-path=\"url(#pd2545660c5)\">\n    <image height=\"95\" id=\"image9807dc64eb\" transform=\"scale(1 -1)translate(0 -95)\" width=\"95\" x=\"1032.123729\" xlink:href=\"data:image/png;base64,\niVBORw0KGgoAAAANSUhEUgAAAF8AAABfCAYAAACOTBv1AAAFS0lEQVR4nO2cSyitbRTHl/s1ERJyLwkxYOY2IBNSMlFKSBSREQMJGSgZUJKJgQkjUUwMDEiUEkmukUgit8j99o2+ddZ6OsS2917fd876jf7bs/ber79lve9zdQCAd1BEcJS+gL8ZNV8QNV8QNV8QNV8QNV8QNV8QNV8QNV8QZ+kL+BcHBwfUAQEBrK28vBx1VVUV6qCgIBb3+PiI+v7+nrUNDAygHh0dRb21tcXi3t/t1+HXzBdEzRdEzRfEAQRHNR0df/3tQ0NDUVdUVLC4vLw81IGBgag9PT1Z3O3tLerX11fW5uz86/Z2d3eHurq6msXNz8+jfnt7+/wX+CGa+YKo+YKIlh1fX1/Uvb29qNPS0ljc6uoq6uHhYdT7+/ss7unpCXVUVBRrKy4uRp2cnIz68vKSxWVmZqI2S5e10cwXRM0XRLSHm56ejjo3Nxe12TulpWZsbAy1WRZoL3ljY+PD73Vzc0Pt5eXF2vz8/FCfnZ19+BnWQDNfEDVfEDVfENGan5GRgdrHxwf1wcEBi6O9zs8e/+iI5MvLC2vb2dn57XeZj5q0121rNPMFUfMFES07u7u7v/25h4cHe+3t7f3tz3ZycmKvY2JiUNNJl6mpKRZ3c3Pz7e+yFM18QdR8QdR8QURHNf39/VHTiWyzXo+MjKBuaGhA/fz8zOLo++hnAwBUVlaijouLQ93a2sri9vb2vnLpVkEzXxA1XxDRskNHIZuamlCbkymRkZGoj46OUJuPibTnak60nJ+fo6ZzvXNzcyzOLGW2RDNfEDVfENEeLh0IW1lZQZ2dnc3igoODUcfHx6POyclhcXQwbWlpibV1dnaipgN19iwzJpr5gqj5gqj5gojWfPqomZKSgjoiIoLF0Qlvep8we8L082gvFoAvR7T1epyvopkviJoviGgPt6CgAPXQ0BBqczKF9k4vLi5QX11dsThaWuj6GwA+YFZbW4t6cXGRxdl6ZTJFM18QNV8QNV8Qu9b8hIQE9np6eho13XFCd44AAHR1daGmazXpWhwAvuamrKyMtdFJGFdXV9QLCwssrqWlBfVHE/zWQjNfEDVfEJuXHfrYSP/1AQBqampQ0w1rjY2NLI7O4ZrLAL9KSUkJ6u7ubtR0AgYA4OHhAXV/fz9ra29v//F1UDTzBVHzBbF52aEDZmbZcXd3R93R0YF6bW2NxVm710k3vU1MTLA2FxeXD9/X19eHurm5GbWlEzKa+YKo+YKo+YJYfTKF9h4BANra2lAnJSWxNlo3aZ239cji7Ows6qysLNY2Pj6O2typGB0djZouOd/c3LToOjTzBVHzBbF62TEnMWgJoWctAPD1ObQXa0/MVcnLy8uozd+lp6cHNZ1LNjfRfbVsauYLouYLYvWyY86r0j219EgWAIDU1FTURUVFqCcnJ1kcPYvB0tP/aGmgvdjY2FgWd3Jygpqe+QAAsL6+jvr6+ho1XbLyrWuy6F2KVVDzBVHzBbH5qGZISAhq2nsE4Eu/6byt+ahGz73Z3t5GfXh4yOLobpTw8HDWFhYWhprudKFLEQH4/WZwcJC10fsZvfdY2iPXzBdEzRfErktH6DwtAEBiYiLq+vp61Pn5+SyODnDRx8TPJj5MaGmg2tzBUlhYiPr4+PjLn28JmvmCqPmCqPmCiC4Rp9AuunlvoBMepaWlqOlxkAD8vAWzy08fV2dmZlDX1dWxuNPT0+9c9o/QzBdEzRfkP1N2rM1npwTac/fJZ2jmC6LmC/LHlp3/A5r5gqj5gqj5gqj5gqj5gqj5gqj5gqj5gqj5gqj5gqj5gqj5gqj5gvwDpD+JS8xou0sAAAAASUVORK5CYII=\" y=\"-6.776271\"/>\n   </g>\n   <g id=\"patch_48\">\n    <path d=\"M 1032.123729 101.776271 \nL 1032.123729 7.2 \n\" style=\"fill:none;stroke:#000000;stroke-linecap:square;stroke-linejoin:miter;stroke-width:0.8;\"/>\n   </g>\n   <g id=\"patch_49\">\n    <path d=\"M 1126.7 101.776271 \nL 1126.7 7.2 \n\" style=\"fill:none;stroke:#000000;stroke-linecap:square;stroke-linejoin:miter;stroke-width:0.8;\"/>\n   </g>\n   <g id=\"patch_50\">\n    <path d=\"M 1032.123729 101.776271 \nL 1126.7 101.776271 \n\" style=\"fill:none;stroke:#000000;stroke-linecap:square;stroke-linejoin:miter;stroke-width:0.8;\"/>\n   </g>\n   <g id=\"patch_51\">\n    <path d=\"M 1032.123729 7.2 \nL 1126.7 7.2 \n\" style=\"fill:none;stroke:#000000;stroke-linecap:square;stroke-linejoin:miter;stroke-width:0.8;\"/>\n   </g>\n  </g>\n </g>\n <defs>\n  <clipPath id=\"pfdcf1745a1\">\n   <rect height=\"94.576271\" width=\"94.576271\" x=\"10.7\" y=\"7.2\"/>\n  </clipPath>\n  <clipPath id=\"pc4e1cc4ee9\">\n   <rect height=\"94.576271\" width=\"94.576271\" x=\"124.191525\" y=\"7.2\"/>\n  </clipPath>\n  <clipPath id=\"pab28d43480\">\n   <rect height=\"94.576271\" width=\"94.576271\" x=\"237.683051\" y=\"7.2\"/>\n  </clipPath>\n  <clipPath id=\"p8cf93dce1c\">\n   <rect height=\"94.576271\" width=\"94.576271\" x=\"351.174576\" y=\"7.2\"/>\n  </clipPath>\n  <clipPath id=\"pc52a7f4fbe\">\n   <rect height=\"94.576271\" width=\"94.576271\" x=\"464.666102\" y=\"7.2\"/>\n  </clipPath>\n  <clipPath id=\"p670c628f9b\">\n   <rect height=\"94.576271\" width=\"94.576271\" x=\"578.157627\" y=\"7.2\"/>\n  </clipPath>\n  <clipPath id=\"p5b0a7afa4e\">\n   <rect height=\"94.576271\" width=\"94.576271\" x=\"691.649153\" y=\"7.2\"/>\n  </clipPath>\n  <clipPath id=\"pe726e9055b\">\n   <rect height=\"94.576271\" width=\"94.576271\" x=\"805.140678\" y=\"7.2\"/>\n  </clipPath>\n  <clipPath id=\"p7b9d516346\">\n   <rect height=\"94.576271\" width=\"94.576271\" x=\"918.632203\" y=\"7.2\"/>\n  </clipPath>\n  <clipPath id=\"pd2545660c5\">\n   <rect height=\"94.576271\" width=\"94.576271\" x=\"1032.123729\" y=\"7.2\"/>\n  </clipPath>\n </defs>\n</svg>\n",
      "image/png": "[encoded data removed]"
     },
     "metadata": {
      "needs_background": "light"
     }
    }
   ],
   "source": [
    "plot_results([DenoiseAEANN],start=20,save=True)"
   ]
  },
  {
   "cell_type": "code",
   "execution_count": null,
   "metadata": {},
   "outputs": [],
   "source": []
  }
 ]
}